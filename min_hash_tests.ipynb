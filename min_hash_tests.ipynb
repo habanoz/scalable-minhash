{
 "cells": [
  {
   "cell_type": "code",
   "execution_count": 46,
   "metadata": {},
   "outputs": [],
   "source": [
    "from datasets import load_dataset\n",
    "import numpy as np\n",
    "import tqdm\n",
    "import time"
   ]
  },
  {
   "cell_type": "code",
   "execution_count": 2,
   "metadata": {},
   "outputs": [],
   "source": [
    "ds = load_dataset(\"habanoz/haber-90k-gpt-text\")"
   ]
  },
  {
   "cell_type": "code",
   "execution_count": 26,
   "metadata": {},
   "outputs": [],
   "source": [
    "ds1000 = ds['train'].shuffle().take(1000)"
   ]
  },
  {
   "cell_type": "code",
   "execution_count": 27,
   "metadata": {},
   "outputs": [
    {
     "data": {
      "text/plain": [
       "Dataset({\n",
       "    features: ['text'],\n",
       "    num_rows: 1000\n",
       "})"
      ]
     },
     "execution_count": 27,
     "metadata": {},
     "output_type": "execute_result"
    }
   ],
   "source": [
    "ds1000"
   ]
  },
  {
   "cell_type": "code",
   "execution_count": 110,
   "metadata": {},
   "outputs": [],
   "source": [
    "class ScoreQueue:\n",
    "    def __init__(self, limit=1000):\n",
    "        self.limit = limit\n",
    "        self.h = []\n",
    "        self.insert_count = 0\n",
    "    @property\n",
    "    def size(self):\n",
    "        return len(self.h)\n",
    "    \n",
    "    def add(self, i,j, score):\n",
    "        if self.size < self.limit-1:\n",
    "            self.h.append((score, i,j))\n",
    "        elif self.size == self.limit-1:\n",
    "            self.h.append((score, i,j)) # O(1)\n",
    "            self.h.sort(reverse=True) # O(NlogN)\n",
    "            \n",
    "            print(\"List is filled up!\")\n",
    "        else:\n",
    "            if self.h[-1][0]<score:\n",
    "                self.h.pop() # O(1)\n",
    "                self.h.append((score, i,j)) # O(1)\n",
    "                self.h.sort(reverse=True) # O(N) (already sorted)\n",
    "                \n",
    "                self.insert_count += 1\n",
    "    \n",
    "    def get_list(self):\n",
    "        self.h.sort(reverse=True)\n",
    "        return list(map(lambda x: (x[1], x[2], x[0]), self.h ))\n",
    "        "
   ]
  },
  {
   "cell_type": "code",
   "execution_count": 111,
   "metadata": {},
   "outputs": [],
   "source": [
    "from heapq import heapify, heappushpop\n",
    "\n",
    "class ScoreHQueue:\n",
    "    def __init__(self, limit=1000):\n",
    "        self.limit = limit\n",
    "        self.h = []\n",
    "        self.push_counts = 0\n",
    "    \n",
    "    @property\n",
    "    def size(self):\n",
    "        return len(self.h)\n",
    "    \n",
    "    def add(self, i,j, score):\n",
    "        if self.size < self.limit-1:\n",
    "            self.h.append((score, i,j))\n",
    "        elif self.size == self.limit-1:\n",
    "            self.h.append((score, i,j))\n",
    "            heapify(self.h) # O(N)\n",
    "            \n",
    "            print(\"Heap is filled up!\")\n",
    "        else:\n",
    "            if self.h[0][0]<score: # h[0] is the smallest value in the min heap\n",
    "                heappushpop(self.h, (score, i,j)) # O(logN)\n",
    "                self.push_counts+=1\n",
    "                \n",
    "    def get_list(self):\n",
    "        self.h.sort(reverse=True)\n",
    "        return list(map(lambda x: (x[1], x[2], x[0]), self.h ))\n",
    "        "
   ]
  },
  {
   "cell_type": "code",
   "execution_count": 112,
   "metadata": {},
   "outputs": [],
   "source": [
    "from sklearn.feature_extraction.text import CountVectorizer\n",
    "\n",
    "class MinHash:\n",
    "    def __init__(self, n_hashes, q_limit=1000, binary=True, seed=123, approximate=True, use_h_queue=False):\n",
    "        self.cv = None\n",
    "        rng = np.random.default_rng(seed)\n",
    "        self.cv = CountVectorizer(binary=binary, ngram_range=(1,1), analyzer=\"word\")\n",
    "        \n",
    "        self.next_prime = 4294967311\n",
    "        max_token_value = 2 ** 32 - 1\n",
    "        self.n_hashes = n_hashes\n",
    "        self.q_limit = q_limit\n",
    "        self.approximate = approximate\n",
    "        self.use_h_queue = use_h_queue\n",
    "        \n",
    "        self.A = rng.integers(0, max_token_value, n_hashes, dtype=np.int64)\n",
    "        self.B = rng.integers(0, max_token_value, n_hashes, dtype=np.int64)\n",
    "        \n",
    "\n",
    "    def _fit(self, corpus):\n",
    "        self.cv.fit(corpus)\n",
    "    \n",
    "    def _sparse_vectorize(self, text_list):\n",
    "        return self.cv.transform(text_list).tolil().rows\n",
    "\n",
    "    def _create_signature(self, sparse_vector):\n",
    "        signature = np.matmul(np.asarray(sparse_vector).reshape(-1,1), self.A.reshape(1,-1))\n",
    "        signature += self.B\n",
    "        signature %= self.next_prime\n",
    "        signature = signature.min(axis=0)\n",
    "        return signature\n",
    "\n",
    "    def _create_pairs(self, signatures):\n",
    "        q = ScoreHQueue(limit=self.q_limit) if self.use_h_queue else ScoreQueue(limit=self.q_limit) \n",
    "        k,h = signatures.shape\n",
    "        \n",
    "        for i in tqdm.tqdm(range(k)):\n",
    "            # broadcast and subtract from the remaining of the matrix\n",
    "            matches = (signatures[i]-signatures[i+1:,:])==0\n",
    "            scores = matches.sum(axis=1) / h\n",
    "            \n",
    "            for j, score in zip(range(i+1, k), scores):\n",
    "                q.add(i,j, score)\n",
    "        \n",
    "        return q.get_list()\n",
    "    \n",
    "    def _create_pairs_exact(self, signatures):\n",
    "        q = ScoreHQueue(limit=self.q_limit) if self.use_h_queue else ScoreQueue(limit=self.q_limit) \n",
    "        k,h = signatures.shape\n",
    "        \n",
    "        for i in tqdm.tqdm(range(k)):\n",
    "            set_i = set(signatures[i])\n",
    "            for j in range(i+1, k):\n",
    "                set_j = set(signatures[j])\n",
    "                score = len(set_i & set_j) / len(set_i | set_j)\n",
    "                q.add(i,j, score)\n",
    "        \n",
    "        return q.get_list()\n",
    "\n",
    "    def generate_scores(self, text_list):\n",
    "        self._fit(text_list)\n",
    "        sparse_vector = self._sparse_vectorize(text_list)\n",
    "        signatures = np.asarray([ self._create_signature(v) for v in sparse_vector])\n",
    "        \n",
    "        if self.approximate:\n",
    "            return self._create_pairs(signatures)\n",
    "        else:\n",
    "            return self._create_pairs_exact(signatures)\n",
    "    \n",
    "    "
   ]
  },
  {
   "cell_type": "markdown",
   "metadata": {},
   "source": [
    "## Test Basic Varations"
   ]
  },
  {
   "cell_type": "code",
   "execution_count": 28,
   "metadata": {},
   "outputs": [],
   "source": []
  },
  {
   "cell_type": "code",
   "execution_count": 49,
   "metadata": {},
   "outputs": [],
   "source": [
    "def test_scale(dims):\n",
    "    times = []\n",
    "    sums = []\n",
    "    for dim in dims:\n",
    "        corpus = ds['train'].take(dim)['text'][:]\n",
    "        \n",
    "        t0 = time.time()\n",
    "        mhs = MinHash(10, binary=True, approximate=True)\n",
    "        pairs1 = mhs.generate_scores(corpus)\n",
    "        \n",
    "        t1 = time.time()\n",
    "        mhs = MinHash(10, binary=False, approximate=True)\n",
    "        pairs2 = mhs.generate_scores(corpus)\n",
    "        \n",
    "        t2 = time.time()\n",
    "        mhs = MinHash(10, binary=False, approximate=False)\n",
    "        pairs3 = mhs.generate_scores(corpus)\n",
    "        \n",
    "        t3 = time.time()\n",
    "        \n",
    "        times.append((t1-t0, t2-t1, t3-t2))\n",
    "        \n",
    "        sum1=0\n",
    "        for i in range(len(pairs1)):\n",
    "            if pairs1[i][0]==pairs2[i][0] and pairs1[i][1]==pairs2[i][1]:\n",
    "                sum1+=1\n",
    "        print(sum1)\n",
    "        \n",
    "        sum2=0\n",
    "        for i in range(len(pairs1)):\n",
    "            if pairs1[i][0]==pairs3[i][0] and pairs1[i][1]==pairs3[i][1]:\n",
    "                sum2+=1\n",
    "        print(sum2)\n",
    "        \n",
    "        sums.append((sum1, sum2))\n",
    "    return times, sums"
   ]
  },
  {
   "cell_type": "code",
   "execution_count": 50,
   "metadata": {},
   "outputs": [
    {
     "name": "stderr",
     "output_type": "stream",
     "text": [
      "100%|██████████| 1000/1000 [00:00<00:00, 3657.88it/s]\n",
      "100%|██████████| 1000/1000 [00:00<00:00, 4118.79it/s]\n",
      "100%|██████████| 1000/1000 [00:01<00:00, 803.63it/s]\n"
     ]
    },
    {
     "name": "stdout",
     "output_type": "stream",
     "text": [
      "1000\n",
      "1000\n"
     ]
    },
    {
     "name": "stderr",
     "output_type": "stream",
     "text": [
      "100%|██████████| 3000/3000 [00:01<00:00, 2181.48it/s]\n",
      "100%|██████████| 3000/3000 [00:01<00:00, 2142.32it/s]\n",
      "100%|██████████| 3000/3000 [00:10<00:00, 272.91it/s] \n"
     ]
    },
    {
     "name": "stdout",
     "output_type": "stream",
     "text": [
      "1000\n",
      "1000\n"
     ]
    },
    {
     "name": "stderr",
     "output_type": "stream",
     "text": [
      "100%|██████████| 10000/10000 [00:16<00:00, 613.43it/s]\n",
      "100%|██████████| 10000/10000 [00:20<00:00, 498.34it/s]\n",
      "100%|██████████| 10000/10000 [02:57<00:00, 56.49it/s]\n"
     ]
    },
    {
     "name": "stdout",
     "output_type": "stream",
     "text": [
      "1000\n",
      "1000\n"
     ]
    },
    {
     "name": "stderr",
     "output_type": "stream",
     "text": [
      "100%|██████████| 30000/30000 [03:37<00:00, 138.14it/s] \n",
      "100%|██████████| 30000/30000 [03:29<00:00, 143.22it/s] \n",
      "100%|██████████| 30000/30000 [26:41<00:00, 18.73it/s] \n"
     ]
    },
    {
     "name": "stdout",
     "output_type": "stream",
     "text": [
      "1000\n",
      "1000\n"
     ]
    }
   ],
   "source": [
    "times, sums = test_scale([1000, 3_000, 10_000, 30_000])"
   ]
  },
  {
   "cell_type": "code",
   "execution_count": 64,
   "metadata": {},
   "outputs": [
    {
     "data": {
      "text/plain": [
       "<matplotlib.legend.Legend at 0x76fe3e787010>"
      ]
     },
     "execution_count": 64,
     "metadata": {},
     "output_type": "execute_result"
    },
    {
     "data": {
      "image/png": "[encoded data removed]",
      "text/plain": [
       "<Figure size 640x480 with 1 Axes>"
      ]
     },
     "metadata": {},
     "output_type": "display_data"
    }
   ],
   "source": [
    "import matplotlib.pyplot as plt\n",
    "on_list = [t[0]/60 for t in times]\n",
    "on_heap = [t[1]/60 for t in times]\n",
    "exact = [t[2]/60 for t in times]\n",
    "plt.plot(on_list, label=\"binary\")\n",
    "plt.plot(on_heap, label=\"counts\")\n",
    "plt.plot(exact, label=\"exact\")\n",
    "plt.xticks([0, 1, 2, 3], labels=[\"1000\", \"3_000\", \"10_000\", \"30_000\"])\n",
    "plt.legend()"
   ]
  },
  {
   "cell_type": "code",
   "execution_count": 65,
   "metadata": {},
   "outputs": [
    {
     "data": {
      "text/plain": [
       "<matplotlib.legend.Legend at 0x76fe3cf60dd0>"
      ]
     },
     "execution_count": 65,
     "metadata": {},
     "output_type": "execute_result"
    },
    {
     "data": {
      "image/png": "[encoded data removed]",
      "text/plain": [
       "<Figure size 640x480 with 1 Axes>"
      ]
     },
     "metadata": {},
     "output_type": "display_data"
    }
   ],
   "source": [
    "import matplotlib.pyplot as plt\n",
    "on_list = [t[0]/60 for t in times]\n",
    "on_heap = [t[1]/60 for t in times]\n",
    "plt.plot(on_list, label=\"binary\")\n",
    "plt.plot(on_heap, label=\"counts\")\n",
    "plt.xticks([0, 1, 2, 3], labels=[\"1000\", \"3_000\", \"10_000\", \"30_000\"])\n",
    "plt.legend()"
   ]
  },
  {
   "cell_type": "markdown",
   "metadata": {},
   "source": [
    "## Test Heap Based Sorting"
   ]
  },
  {
   "cell_type": "code",
   "execution_count": 77,
   "metadata": {},
   "outputs": [],
   "source": [
    "corpus = ds['train'].take(10_000)['text'][:]"
   ]
  },
  {
   "cell_type": "code",
   "execution_count": 81,
   "metadata": {},
   "outputs": [
    {
     "name": "stderr",
     "output_type": "stream",
     "text": [
      "100%|██████████| 10000/10000 [00:15<00:00, 636.63it/s]\n"
     ]
    },
    {
     "name": "stdout",
     "output_type": "stream",
     "text": [
      "CPU times: user 21 s, sys: 80 ms, total: 21 s\n",
      "Wall time: 21 s\n"
     ]
    }
   ],
   "source": [
    "%%time\n",
    "mhs = MinHash(10)\n",
    "pairs1 = mhs.generate_scores(corpus)"
   ]
  },
  {
   "cell_type": "code",
   "execution_count": 82,
   "metadata": {},
   "outputs": [
    {
     "name": "stderr",
     "output_type": "stream",
     "text": [
      "100%|██████████| 10000/10000 [00:20<00:00, 496.43it/s]"
     ]
    },
    {
     "name": "stdout",
     "output_type": "stream",
     "text": [
      "CPU times: user 25.3 s, sys: 64 ms, total: 25.4 s\n",
      "Wall time: 25.4 s\n"
     ]
    },
    {
     "name": "stderr",
     "output_type": "stream",
     "text": [
      "\n"
     ]
    }
   ],
   "source": [
    "%%time\n",
    "mhs = MinHash(10, use_h_queue=True)\n",
    "pairs2 = mhs.generate_scores(corpus)"
   ]
  },
  {
   "cell_type": "code",
   "execution_count": 83,
   "metadata": {},
   "outputs": [
    {
     "name": "stdout",
     "output_type": "stream",
     "text": [
      "1000\n"
     ]
    }
   ],
   "source": [
    "sum1=0\n",
    "for i in range(len(pairs1)):\n",
    "    if pairs1[i][0]==pairs2[i][0] and pairs1[i][1]==pairs2[i][1]:\n",
    "        sum1+=1\n",
    "print(sum1)"
   ]
  },
  {
   "cell_type": "code",
   "execution_count": null,
   "metadata": {},
   "outputs": [],
   "source": []
  },
  {
   "cell_type": "code",
   "execution_count": 84,
   "metadata": {},
   "outputs": [],
   "source": [
    "def test_hsort_scale(dims):\n",
    "    times = []\n",
    "    sums = []\n",
    "    for dim in dims:\n",
    "        corpus = ds['train'].take(dim)['text'][:]\n",
    "        \n",
    "        t0 = time.time()\n",
    "        mhs = MinHash(10)\n",
    "        pairs1 = mhs.generate_scores(corpus)\n",
    "        \n",
    "        t1 = time.time()\n",
    "        mhs = MinHash(10, use_h_queue=True)\n",
    "        pairs2 = mhs.generate_scores(corpus)\n",
    "        \n",
    "        t2 = time.time()\n",
    "        \n",
    "        times.append((t1-t0, t2-t1))\n",
    "        \n",
    "        sum1=0\n",
    "        for i in range(len(pairs1)):\n",
    "            if pairs1[i][0]==pairs2[i][0] and pairs1[i][1]==pairs2[i][1]:\n",
    "                sum1+=1\n",
    "        print(sum1)\n",
    "        \n",
    "        sums.append(sum1)\n",
    "    return times, sums"
   ]
  },
  {
   "cell_type": "code",
   "execution_count": 85,
   "metadata": {},
   "outputs": [
    {
     "name": "stderr",
     "output_type": "stream",
     "text": [
      "100%|██████████| 1000/1000 [00:00<00:00, 3922.22it/s]\n",
      "100%|██████████| 1000/1000 [00:00<00:00, 4177.96it/s]\n"
     ]
    },
    {
     "name": "stdout",
     "output_type": "stream",
     "text": [
      "1000\n"
     ]
    },
    {
     "name": "stderr",
     "output_type": "stream",
     "text": [
      "100%|██████████| 3000/3000 [00:01<00:00, 2150.25it/s]\n",
      "100%|██████████| 3000/3000 [00:01<00:00, 2123.90it/s]\n"
     ]
    },
    {
     "name": "stdout",
     "output_type": "stream",
     "text": [
      "1000\n"
     ]
    },
    {
     "name": "stderr",
     "output_type": "stream",
     "text": [
      "100%|██████████| 10000/10000 [00:15<00:00, 638.08it/s]\n",
      "100%|██████████| 10000/10000 [00:19<00:00, 523.25it/s]\n"
     ]
    },
    {
     "name": "stdout",
     "output_type": "stream",
     "text": [
      "1000\n"
     ]
    },
    {
     "name": "stderr",
     "output_type": "stream",
     "text": [
      "100%|██████████| 30000/30000 [03:41<00:00, 135.60it/s] \n",
      "100%|██████████| 30000/30000 [03:22<00:00, 148.16it/s] \n"
     ]
    },
    {
     "name": "stdout",
     "output_type": "stream",
     "text": [
      "1000\n"
     ]
    },
    {
     "name": "stderr",
     "output_type": "stream",
     "text": [
      "100%|██████████| 60000/60000 [13:13<00:00, 75.65it/s]  \n",
      "100%|██████████| 60000/60000 [13:28<00:00, 74.23it/s]  \n"
     ]
    },
    {
     "name": "stdout",
     "output_type": "stream",
     "text": [
      "1000\n"
     ]
    }
   ],
   "source": [
    "times, sums = test_hsort_scale([1000, 3_000, 10_000, 30_000, 60_000])"
   ]
  },
  {
   "cell_type": "code",
   "execution_count": 86,
   "metadata": {},
   "outputs": [
    {
     "data": {
      "text/plain": [
       "<matplotlib.legend.Legend at 0x76fe3c976590>"
      ]
     },
     "execution_count": 86,
     "metadata": {},
     "output_type": "execute_result"
    },
    {
     "data": {
      "image/png": "[encoded data removed]",
      "text/plain": [
       "<Figure size 640x480 with 1 Axes>"
      ]
     },
     "metadata": {},
     "output_type": "display_data"
    }
   ],
   "source": [
    "import matplotlib.pyplot as plt\n",
    "on_list = [t[0]/60 for t in times]\n",
    "on_heap = [t[1]/60 for t in times]\n",
    "plt.plot(on_list, label=\"on_list\")\n",
    "plt.plot(on_heap, label=\"on_heap\")\n",
    "plt.xticks([0, 1, 2, 3, 4], labels=[\"1000\", \"3_000\", \"10_000\", \"30_000\",\"60_000\"])\n",
    "plt.legend()"
   ]
  },
  {
   "cell_type": "markdown",
   "metadata": {},
   "source": [
    "### Test heap on cache scaling"
   ]
  },
  {
   "cell_type": "code",
   "execution_count": 102,
   "metadata": {},
   "outputs": [],
   "source": [
    "def test_hsort_cache_scale(dims, corpus_size = 30_000):\n",
    "    times = []\n",
    "    sums = []\n",
    "    corpus = ds['train'].take(corpus_size)['text'][:]\n",
    "    \n",
    "    for dim in dims:\n",
    "        t0 = time.time()\n",
    "        mhs = MinHash(10, q_limit=dim)\n",
    "        pairs1 = mhs.generate_scores(corpus)\n",
    "        \n",
    "        t1 = time.time()\n",
    "        mhs = MinHash(10, q_limit=dim, use_h_queue=True)\n",
    "        pairs2 = mhs.generate_scores(corpus)\n",
    "        \n",
    "        t2 = time.time()\n",
    "        \n",
    "        times.append((t1-t0, t2-t1))\n",
    "        \n",
    "        sum1=0\n",
    "        for i in range(len(pairs1)):\n",
    "            if pairs1[i][0]==pairs2[i][0] and pairs1[i][1]==pairs2[i][1]:\n",
    "                sum1+=1\n",
    "        print(sum1)\n",
    "        \n",
    "        sums.append(sum1)\n",
    "    return times, sums"
   ]
  },
  {
   "cell_type": "code",
   "execution_count": 117,
   "metadata": {},
   "outputs": [
    {
     "name": "stderr",
     "output_type": "stream",
     "text": [
      "  0%|          | 28/10000 [00:00<01:07, 147.51it/s]"
     ]
    },
    {
     "name": "stdout",
     "output_type": "stream",
     "text": [
      "List is filled up!\n"
     ]
    },
    {
     "name": "stderr",
     "output_type": "stream",
     "text": [
      "100%|██████████| 10000/10000 [00:16<00:00, 602.13it/s]\n",
      "  0%|          | 46/10000 [00:00<00:44, 225.38it/s]"
     ]
    },
    {
     "name": "stdout",
     "output_type": "stream",
     "text": [
      "Heap is filled up!\n"
     ]
    },
    {
     "name": "stderr",
     "output_type": "stream",
     "text": [
      "100%|██████████| 10000/10000 [00:21<00:00, 467.71it/s]"
     ]
    },
    {
     "name": "stdout",
     "output_type": "stream",
     "text": [
      "1000\n"
     ]
    },
    {
     "name": "stderr",
     "output_type": "stream",
     "text": [
      "\n"
     ]
    }
   ],
   "source": [
    "times, sums = test_hsort_cache_scale([1_000], corpus_size=10_000)"
   ]
  },
  {
   "cell_type": "code",
   "execution_count": 118,
   "metadata": {},
   "outputs": [
    {
     "name": "stderr",
     "output_type": "stream",
     "text": [
      "  0%|          | 1/10000 [00:00<21:54,  7.61it/s]"
     ]
    },
    {
     "name": "stdout",
     "output_type": "stream",
     "text": [
      "List is filled up!\n"
     ]
    },
    {
     "name": "stderr",
     "output_type": "stream",
     "text": [
      "100%|██████████| 10000/10000 [00:17<00:00, 579.22it/s]\n",
      "  1%|          | 57/10000 [00:00<00:34, 285.74it/s]"
     ]
    },
    {
     "name": "stdout",
     "output_type": "stream",
     "text": [
      "Heap is filled up!\n"
     ]
    },
    {
     "name": "stderr",
     "output_type": "stream",
     "text": [
      "100%|██████████| 10000/10000 [00:15<00:00, 631.09it/s]\n"
     ]
    },
    {
     "name": "stdout",
     "output_type": "stream",
     "text": [
      "3000\n"
     ]
    }
   ],
   "source": [
    "times, sums = test_hsort_cache_scale([3_000], corpus_size=10_000)"
   ]
  },
  {
   "cell_type": "code",
   "execution_count": 114,
   "metadata": {},
   "outputs": [
    {
     "name": "stderr",
     "output_type": "stream",
     "text": [
      "  0%|          | 0/10000 [00:00<?, ?it/s]"
     ]
    },
    {
     "name": "stdout",
     "output_type": "stream",
     "text": [
      "List is filled up!\n"
     ]
    },
    {
     "name": "stderr",
     "output_type": "stream",
     "text": [
      "100%|██████████| 10000/10000 [00:34<00:00, 293.14it/s]\n",
      "  0%|          | 31/10000 [00:00<01:00, 164.20it/s]"
     ]
    },
    {
     "name": "stdout",
     "output_type": "stream",
     "text": [
      "Heap is filled up!\n"
     ]
    },
    {
     "name": "stderr",
     "output_type": "stream",
     "text": [
      "100%|██████████| 10000/10000 [00:21<00:00, 473.15it/s]\n"
     ]
    },
    {
     "name": "stdout",
     "output_type": "stream",
     "text": [
      "10000\n"
     ]
    }
   ],
   "source": [
    "times, sums = test_hsort_cache_scale([10_000], corpus_size=10_000)"
   ]
  },
  {
   "cell_type": "code",
   "execution_count": 115,
   "metadata": {},
   "outputs": [
    {
     "name": "stderr",
     "output_type": "stream",
     "text": [
      "  0%|          | 0/10000 [00:00<?, ?it/s]"
     ]
    },
    {
     "name": "stdout",
     "output_type": "stream",
     "text": [
      "List is filled up!\n"
     ]
    },
    {
     "name": "stderr",
     "output_type": "stream",
     "text": [
      "100%|██████████| 10000/10000 [03:17<00:00, 50.61it/s] \n",
      "  0%|          | 27/10000 [00:00<01:11, 139.13it/s]"
     ]
    },
    {
     "name": "stdout",
     "output_type": "stream",
     "text": [
      "Heap is filled up!\n"
     ]
    },
    {
     "name": "stderr",
     "output_type": "stream",
     "text": [
      "100%|██████████| 10000/10000 [00:21<00:00, 472.77it/s]"
     ]
    },
    {
     "name": "stdout",
     "output_type": "stream",
     "text": [
      "30000\n"
     ]
    },
    {
     "name": "stderr",
     "output_type": "stream",
     "text": [
      "\n"
     ]
    }
   ],
   "source": [
    "times, sums = test_hsort_cache_scale([30_000], corpus_size=10_000)"
   ]
  },
  {
   "cell_type": "code",
   "execution_count": 116,
   "metadata": {},
   "outputs": [
    {
     "name": "stderr",
     "output_type": "stream",
     "text": [
      "  0%|          | 0/10000 [00:00<?, ?it/s]"
     ]
    },
    {
     "name": "stdout",
     "output_type": "stream",
     "text": [
      "List is filled up!\n"
     ]
    },
    {
     "name": "stderr",
     "output_type": "stream",
     "text": [
      "100%|██████████| 10000/10000 [13:24<00:00, 12.43it/s] \n",
      "  0%|          | 22/10000 [00:00<01:29, 111.10it/s]"
     ]
    },
    {
     "name": "stdout",
     "output_type": "stream",
     "text": [
      "Heap is filled up!\n"
     ]
    },
    {
     "name": "stderr",
     "output_type": "stream",
     "text": [
      "100%|██████████| 10000/10000 [00:21<00:00, 463.02it/s]\n"
     ]
    },
    {
     "name": "stdout",
     "output_type": "stream",
     "text": [
      "60000\n"
     ]
    }
   ],
   "source": [
    "times, sums = test_hsort_cache_scale([60_000], corpus_size=10_000)"
   ]
  },
  {
   "cell_type": "code",
   "execution_count": 119,
   "metadata": {},
   "outputs": [
    {
     "data": {
      "text/plain": [
       "<matplotlib.legend.Legend at 0x76fe402d1e90>"
      ]
     },
     "execution_count": 119,
     "metadata": {},
     "output_type": "execute_result"
    },
    {
     "data": {
      "image/png": "[encoded data removed]",
      "text/plain": [
       "<Figure size 640x480 with 1 Axes>"
      ]
     },
     "metadata": {},
     "output_type": "display_data"
    }
   ],
   "source": [
    "import matplotlib.pyplot as plt\n",
    "on_list = [t/60 for t in [16,17,34,197,804]]\n",
    "on_heap = [t/60 for t in [21,15,21,21,21]]\n",
    "plt.plot(on_list, label=\"on_list\")\n",
    "plt.plot(on_heap, label=\"on_heap\")\n",
    "plt.xticks([0, 1, 2, 3, 4], labels=[\"1000\", \"3_000\", \"10_000\", \"30_000\",\"60_000\"])\n",
    "plt.legend()"
   ]
  },
  {
   "cell_type": "markdown",
   "metadata": {},
   "source": [
    "## Large Scale Test"
   ]
  },
  {
   "cell_type": "code",
   "execution_count": 120,
   "metadata": {},
   "outputs": [],
   "source": [
    "corpus = ds['train']['text'][:]"
   ]
  },
  {
   "cell_type": "code",
   "execution_count": 121,
   "metadata": {},
   "outputs": [
    {
     "data": {
      "text/plain": [
       "81708"
      ]
     },
     "execution_count": 121,
     "metadata": {},
     "output_type": "execute_result"
    }
   ],
   "source": [
    "len(corpus)"
   ]
  },
  {
   "cell_type": "code",
   "execution_count": 122,
   "metadata": {},
   "outputs": [
    {
     "name": "stderr",
     "output_type": "stream",
     "text": [
      "  0%|          | 4/81708 [00:00<2:46:23,  8.18it/s] "
     ]
    },
    {
     "name": "stdout",
     "output_type": "stream",
     "text": [
      "Heap is filled up!\n"
     ]
    },
    {
     "name": "stderr",
     "output_type": "stream",
     "text": [
      "100%|██████████| 81708/81708 [23:19<00:00, 58.39it/s]  \n"
     ]
    }
   ],
   "source": [
    "mhs = MinHash(10, q_limit=30_000, use_h_queue=True)\n",
    "pairs_large = mhs.generate_scores(corpus)"
   ]
  },
  {
   "cell_type": "code",
   "execution_count": 156,
   "metadata": {},
   "outputs": [
    {
     "data": {
      "text/plain": [
       "(76003, 78798, 1.0)"
      ]
     },
     "execution_count": 156,
     "metadata": {},
     "output_type": "execute_result"
    }
   ],
   "source": [
    "pairs_large[0]"
   ]
  },
  {
   "cell_type": "code",
   "execution_count": 159,
   "metadata": {},
   "outputs": [
    {
     "name": "stdout",
     "output_type": "stream",
     "text": [
      "# OHAL Komisyonunun karar sayısı 92 bin oldu\n",
      "\n",
      "## Özet\n",
      "\n",
      "OHAL İşlemleri İnceleme Komisyonu, KHK ile meslekten ihraç edilenler, kapatılan kurum ve kuruluşlara ilişkin yapılan 126 bin 200 başvurudan 92 binini sonuçlandırdı.\n",
      "\n",
      "## İçerik\n",
      "\n",
      "#### OHAL İşlemleri İnceleme Komisyonu, KHK ile meslekten ihraç edilenler, kapatılan kurum ve kuruluşlara ilişkin yapılan 126 bin 200 başvurudan 92 binini sonuçlandırdı.\n",
      "###### Ankara\n",
      "Olağanüstü Hal (**OHAL** ) İşlemleri İnceleme Komisyonu, kanun hükmünde kararname (**KHK** ) ile bugüne kadar **meslekten ihraç ** edilenler, kapatılan bazı kurum ve kuruluşlara ilişkin yapılan 126 bin 200 başvurudan 92 binini karara bağladı.\n",
      "\n",
      "Komisyondan yapılan yazılı açıklamaya göre, meslekten ihraç edilenler, bursu kesilen öğrenciler, rütbeleri alınan emekli güvenlik personeli, kapatılan kurum ile kuruluşlara ilişkin başvurulara bakmak üzere kurulan OHAL İşlemleri İnceleme Komisyonu'na 126 bin 200 müracaat yapıldı.\n",
      "\n",
      "**OHAL İşlemleri İnceleme Komisyonu** , tamamlanan ve incelemeleri sona eren başvurulara yönelik 22 Aralık 2017'den itibaren karar vermeye başladı.\n",
      "\n",
      "Komisyon, bugüne kadar 92 bin başvuruyu sonuçlandırdı, 8 bin 100 başvuruyu kabul etti.\n",
      "\n",
      "Başvuruların 83 bin 900'ünü reddeden komisyonda, 34 bin 200 müracaatın incelemesi ise devam ediyor.\n",
      "\n",
      "### 33 dernek, vakıf, televizyon kanalı tekrar açıldı\n",
      "Komisyonun kabul kararıyla çok sayıda kişi mesleğine döndü. Kapatılan kurum ve kuruluşlara ilişkin başvuruları da değerlendiren komisyon, aralarında dernek, vakıf ve televizyon kanalının da bulunduğu 33 kurum ve kuruluşun tekrar açılmasını kararlaştırdı.\n",
      "\n",
      "Kararlar, tebliğ edilmek üzere başvurucuların en son görev yaptığı kurumlara teslim ediliyor. Başvurusu kabul edilenlerin atama işlemleri, en son görev yapılan kurumlar ile Yükseköğretim Kurulu Başkanlığınca yapılıyor.\n",
      "\n",
      "OHAL İşlemleri İnceleme Komisyonunun ret kararlarına karşı, kararın tebliğinden itibaren 60 gün içinde Hakimler ve Savcılar Kurulunca (HSK) belirlenen idare mahkemelerine iptal davası açılabiliyor.\n",
      "\n",
      "Başvurucular, ohalkomisyonu.tccb.gov.tr internet adresindeki \"OHAL Komisyonu Başvuru Takip Sistemi\" üzerinden müracaatlarının kabul ya da reddedildiğine yönelik bilgilere ulaşabiliyor.\n",
      "\n",
      "Komisyonun ocak ayında internetten yayımladığı faaliyet raporunun İngilizcesine de \"soe.tccb.gov.tr\" adresinden erişim sağlanabiliyor.\n",
      "\n",
      "### Yargı kararları takip ediliyor\n",
      "Etkili iç hukuk yolu olarak kabul edilen OHAL Komisyonu, kapsamlı incelemeler sonucunda başvurular hakkında gerekçeli kararlar veriyor. Komisyon incelemelerini, terör örgütlerine, veya Milli Güvenlik Kurulunca devletin milli güvenliğine karşı faaliyette bulunduğuna karar verilen yapı, oluşum veya gruplara üyeliği, mensubiyeti, aidiyeti, iltisakı veya bunlarla irtibat yönünden yapıyor.\n",
      "\n",
      "Komisyon, yargı mercilerinin verdiği kararları da Ulusal Yargı Ağı Bilişim Sistemi (UYAP) üzerinden takip ediyor.\n",
      "\n",
      "Anadolu Ajansı web sitesinde, AA Haber Akış Sistemi (HAS) üzerinden abonelere sunulan haberler, özetlenerek yayımlanmaktadır.**Abonelik için lütfen iletişime geçiniz.**\n"
     ]
    }
   ],
   "source": [
    "print(corpus[76003])"
   ]
  },
  {
   "cell_type": "code",
   "execution_count": 160,
   "metadata": {},
   "outputs": [
    {
     "name": "stdout",
     "output_type": "stream",
     "text": [
      "# OHAL İşlemleri İnceleme Komisyonu, başvuruların yüzde 93'ünü sonuçlandırdı\n",
      "\n",
      "## Özet\n",
      "\n",
      "Komisyon, KHK ile meslekten ihraç edilenler, kapatılan kurum ve kuruluşlara ilişkin yapılan 126 bin 758 başvurudan 118 bin 415'ini karara bağladı.\n",
      "\n",
      "## İçerik\n",
      "\n",
      "#### Komisyon, KHK ile meslekten ihraç edilenler, kapatılan kurum ve kuruluşlara ilişkin yapılan 126 bin 758 başvurudan 118 bin 415'ini karara bağladı.\n",
      "###### Ankara\n",
      "Olağanüstü Hal (OHAL) İşlemleri İnceleme Komisyonu, kanun hükmünde kararname (KHK) ile bugüne kadar meslekten ihraç edilen ve kapatılan bazı kurum ve kuruluşlara ilişkin 126 bin 758 başvurudan 118 bin 415'ini sonuçlandırdı. Komisyon, sonuçlandırdığı başvurulardan 15 bin 50'sinde kabul kararı verdi.\n",
      "\n",
      "Komisyondan yapılan açıklamaya göre, meslekten ihraç edilenler, bursu kesilen öğrenciler, rütbeleri alınan emekli güvenlik personeli, kapatılan kurum ile kuruluşlara ilişkin başvurulara bakmak üzere kurulan OHAL İşlemleri İnceleme Komisyonuna 126 bin 758 müracaat yapıldı.\n",
      "\n",
      "Tamamlanan ve incelemeleri sona eren başvurulara yönelik 22 Aralık 2017'den itibaren karar vermeye başlayan OHAL İşlemleri İnceleme Komisyonu, bugüne kadar 118 bin 415 başvuruyu karara bağladı.\n",
      "\n",
      "### 15 bin başvuruda kabul kararı verildi\n",
      "Başvuruların 103 bin 365'ini reddeden ve 15 bin 50'sini ise kabul eden komisyonda, 8 bin 343 müracaatın incelemesi sürüyor. Böylece komisyon, karar vermeye başladığı tarihten bugüne kadar geçen sürede başvuruların yaklaşık yüzde 93'ünü sonuçlandırmış oldu.\n",
      "\n",
      "Komisyonun kabul kararıyla çok sayıda kişi mesleğine döndü. Kapatılan kurum ve kuruluşlara ilişkin başvuruları da değerlendiren komisyon, aralarında dernek, vakıf, öğrenci yurdu, gazete ve televizyon kanalının da bulunduğu 61 kurum ve kuruluşun tekrar açılmasını kararlaştırdı.\n",
      "\n",
      "Öte yandan, komisyonun, inceleme ve değerlendirmesi aşamasında 20'den fazla kurum ve kuruluştan gelen 495 bin 10 evrakın tasnifi de yapıldı.\n",
      "\n",
      "Kararlar, tebliğ edilmek üzere başvurucuların en son görev yaptığı kurumlara gönderiliyor. Başvurusu kabul edilenlerin atama işlemleri, en son görev yapılan kurum ve Yükseköğretim Kurulu Başkanlığı tarafından yapılıyor.\n",
      "\n",
      "OHAL İşlemleri İnceleme Komisyonunun kararlarına karşı, kararın tebliğinden itibaren 60 gün içinde Hakimler ve Savcılar Kurulunca (HSK) belirlenen idare mahkemelerine iptal davası açılabiliyor.\n",
      "\n",
      "Başvurucular, \"ohalkomisyonu.tccb.gov.tr\" internet adresindeki \"OHAL Komisyonu Başvuru Takip Sistemi\" üzerinden müracaatlarının kabul ya da reddedildiğine yönelik bilgilere ulaşabiliyor.\n",
      "\n",
      "### Gerekçeli karar veriyor\n",
      "Etkili iç hukuk yolu olarak kabul edilen OHAL Komisyonu, kapsamlı incelemeler sonucunda başvurularla ilgili gerekçeli karar veriyor.\n",
      "\n",
      "Komisyon, incelemesini terör örgütlerine veya Milli Güvenlik Kurulunca devletin milli güvenliğine karşı faaliyette bulunduğuna karar verilen yapı, oluşum veya gruplara üyelik, mensubiyet, aidiyet, iltisak veya bunlarla irtibat yönünden yapıyor.\n",
      "\n",
      "Ayrıca yargı mercileri tarafından verilen kararlar da UYAP sistemi üzerinden takip ediliyor.\n",
      "\n",
      "Anadolu Ajansı web sitesinde, AA Haber Akış Sistemi (HAS) üzerinden abonelere sunulan haberler, özetlenerek yayımlanmaktadır.**Abonelik için lütfen iletişime geçiniz.**\n"
     ]
    }
   ],
   "source": [
    "print(corpus[78798])"
   ]
  },
  {
   "cell_type": "code",
   "execution_count": 323,
   "metadata": {},
   "outputs": [],
   "source": [
    "k,h = A.shape\n",
    "\n",
    "matches = np.zeros((k,k))"
   ]
  },
  {
   "cell_type": "code",
   "execution_count": 324,
   "metadata": {},
   "outputs": [],
   "source": [
    "for i in range(k):\n",
    "    matches = (A[i]-A[i+1:,:])==0\n",
    "    matches[i,i+1:] += matches.sum(axis=1)"
   ]
  },
  {
   "cell_type": "code",
   "execution_count": null,
   "metadata": {},
   "outputs": [],
   "source": []
  }
 ],
 "metadata": {
  "kernelspec": {
   "display_name": "myenv",
   "language": "python",
   "name": "python3"
  },
  "language_info": {
   "codemirror_mode": {
    "name": "ipython",
    "version": 3
   },
   "file_extension": ".py",
   "mimetype": "text/x-python",
   "name": "python",
   "nbconvert_exporter": "python",
   "pygments_lexer": "ipython3",
   "version": "3.11.9"
  }
 },
 "nbformat": 4,
 "nbformat_minor": 2
}
